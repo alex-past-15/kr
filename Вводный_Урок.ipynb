{
 "cells": [
  {
   "cell_type": "markdown",
   "id": "76ccc108",
   "metadata": {},
   "source": [
    "# Создание словаря"
   ]
  },
  {
   "cell_type": "code",
   "execution_count": 35,
   "id": "0ae8a765",
   "metadata": {},
   "outputs": [
    {
     "data": {
      "text/plain": [
       "'Moscow'"
      ]
     },
     "execution_count": 35,
     "metadata": {},
     "output_type": "execute_result"
    }
   ],
   "source": [
    "town = [\"Moscow\", \"Saint_Petersburg\", \"Krasnogorsk\"]\n",
    "town[0]"
   ]
  },
  {
   "cell_type": "code",
   "execution_count": 37,
   "id": "8c2f3cd9",
   "metadata": {},
   "outputs": [
    {
     "data": {
      "text/plain": [
       "{77: 'Moscow', 78: 'Saint_Petersburg', 50: 'Krasnogorsk'}"
      ]
     },
     "execution_count": 37,
     "metadata": {},
     "output_type": "execute_result"
    }
   ],
   "source": [
    "my_dict = {77: \"Moscow\", 78: \"Saint_Petersburg\", 50: \"Krasnogorsk\"}\n",
    "my_dict"
   ]
  },
  {
   "cell_type": "code",
   "execution_count": 3,
   "id": "2b2823e9",
   "metadata": {},
   "outputs": [
    {
     "data": {
      "text/plain": [
       "{77: 'Moscow', 78: 'Saint-Petersburg', 50: 'Krasnogorsk'}"
      ]
     },
     "execution_count": 3,
     "metadata": {},
     "output_type": "execute_result"
    }
   ],
   "source": [
    "my_dict = {\n",
    "    77: \"Moscow\", \n",
    "    78: \"Saint-Petersburg\", \n",
    "    50: \"Krasnogorsk\"\n",
    "}\n",
    "my_dict"
   ]
  },
  {
   "cell_type": "code",
   "execution_count": 39,
   "id": "95e5da52",
   "metadata": {},
   "outputs": [
    {
     "data": {
      "text/plain": [
       "{'moscow': 77, 'saint_petersburg': 78, 'krasnogorsk': 50}"
      ]
     },
     "execution_count": 39,
     "metadata": {},
     "output_type": "execute_result"
    }
   ],
   "source": [
    "my_dict = dict(moscow = 77, saint_petersburg=78, krasnogorsk=50)\n",
    "my_dict"
   ]
  },
  {
   "cell_type": "code",
   "execution_count": 40,
   "id": "f1ca0d75",
   "metadata": {},
   "outputs": [
    {
     "data": {
      "text/plain": [
       "{88: 'Moscow', 78: 'Saint_Petersburg', 50: 'Krasnogorsk'}"
      ]
     },
     "execution_count": 40,
     "metadata": {},
     "output_type": "execute_result"
    }
   ],
   "source": [
    "key_value = [[88, \"Moscow\"], [78, \"Saint_Petersburg\"], [50, \"Krasnogorsk\"]]\n",
    "my_dict = dict(key_value)\n",
    "my_dict"
   ]
  },
  {
   "cell_type": "code",
   "execution_count": 6,
   "id": "ebc21d4b",
   "metadata": {},
   "outputs": [
    {
     "data": {
      "text/plain": [
       "{'a': 100, 'b': 100, 'c': 100}"
      ]
     },
     "execution_count": 6,
     "metadata": {},
     "output_type": "execute_result"
    }
   ],
   "source": [
    "my_dict = dict.fromkeys([\"a\", \"b\", \"c\"], 100)\n",
    "my_dict"
   ]
  },
  {
   "cell_type": "markdown",
   "id": "b5707a13",
   "metadata": {},
   "source": [
    "# Добавление, изменение и удаление пары"
   ]
  },
  {
   "cell_type": "code",
   "execution_count": 41,
   "id": "76862052",
   "metadata": {},
   "outputs": [
    {
     "data": {
      "text/plain": [
       "'Saint-Petersburg'"
      ]
     },
     "execution_count": 41,
     "metadata": {},
     "output_type": "execute_result"
    }
   ],
   "source": [
    "my_dict = {\n",
    "    77: \"Moscow\", \n",
    "    78: \"Saint-Petersburg\", \n",
    "    50: \"Krasnogorsk\"\n",
    "}\n",
    "my_dict[78]"
   ]
  },
  {
   "cell_type": "code",
   "execution_count": 42,
   "id": "8aa9ae8f",
   "metadata": {},
   "outputs": [
    {
     "ename": "KeyError",
     "evalue": "47",
     "output_type": "error",
     "traceback": [
      "\u001b[0;31m---------------------------------------------------------------------------\u001b[0m",
      "\u001b[0;31mKeyError\u001b[0m                                  Traceback (most recent call last)",
      "Cell \u001b[0;32mIn[42], line 1\u001b[0m\n\u001b[0;32m----> 1\u001b[0m my_dict[\u001b[38;5;241m47\u001b[39m]\n",
      "\u001b[0;31mKeyError\u001b[0m: 47"
     ]
    }
   ],
   "source": [
    "my_dict[47]"
   ]
  },
  {
   "cell_type": "code",
   "execution_count": 43,
   "id": "416dbbc5",
   "metadata": {},
   "outputs": [],
   "source": [
    "my_dict[47] = \"Krasnoyarsk\""
   ]
  },
  {
   "cell_type": "code",
   "execution_count": 44,
   "id": "64666776",
   "metadata": {},
   "outputs": [
    {
     "data": {
      "text/plain": [
       "'Krasnoyarsk'"
      ]
     },
     "execution_count": 44,
     "metadata": {},
     "output_type": "execute_result"
    }
   ],
   "source": [
    "my_dict[47]"
   ]
  },
  {
   "cell_type": "code",
   "execution_count": 45,
   "id": "68a30af0",
   "metadata": {},
   "outputs": [
    {
     "data": {
      "text/plain": [
       "{77: 'Moscow', 78: 'Saint-Petersburg', 50: 'Krasnogorsk', 47: 'Krasnoyarsk'}"
      ]
     },
     "execution_count": 45,
     "metadata": {},
     "output_type": "execute_result"
    }
   ],
   "source": [
    "my_dict"
   ]
  },
  {
   "cell_type": "code",
   "execution_count": 10,
   "id": "dbc4f088",
   "metadata": {},
   "outputs": [
    {
     "data": {
      "text/plain": [
       "{77: 'Moscow', 78: 'Saint-Petersburg', 50: 'Krasnogorsk', 47: 'Tver'}"
      ]
     },
     "execution_count": 10,
     "metadata": {},
     "output_type": "execute_result"
    }
   ],
   "source": [
    "my_dict[47] = \"Tver\"\n",
    "my_dict"
   ]
  },
  {
   "cell_type": "code",
   "execution_count": 46,
   "id": "ced48cdb",
   "metadata": {},
   "outputs": [
    {
     "data": {
      "text/plain": [
       "{77: 'Moscow', 78: 'Saint-Petersburg', 50: 'Krasnogorsk'}"
      ]
     },
     "execution_count": 46,
     "metadata": {},
     "output_type": "execute_result"
    }
   ],
   "source": [
    "del my_dict[47]\n",
    "my_dict"
   ]
  },
  {
   "cell_type": "markdown",
   "id": "c0c6c494",
   "metadata": {},
   "source": [
    "# Функции и методы словаря"
   ]
  },
  {
   "cell_type": "code",
   "execution_count": 47,
   "id": "cdf8596f",
   "metadata": {},
   "outputs": [
    {
     "data": {
      "text/plain": [
       "3"
      ]
     },
     "execution_count": 47,
     "metadata": {},
     "output_type": "execute_result"
    }
   ],
   "source": [
    "len(my_dict)"
   ]
  },
  {
   "cell_type": "code",
   "execution_count": 48,
   "id": "1d740d8d",
   "metadata": {},
   "outputs": [
    {
     "data": {
      "text/plain": [
       "False"
      ]
     },
     "execution_count": 48,
     "metadata": {},
     "output_type": "execute_result"
    }
   ],
   "source": [
    "1 in my_dict"
   ]
  },
  {
   "cell_type": "code",
   "execution_count": 49,
   "id": "4e062a14",
   "metadata": {},
   "outputs": [
    {
     "data": {
      "text/plain": [
       "{77: 'Moscow', 78: 'Saint-Petersburg', 50: 'Krasnogorsk'}"
      ]
     },
     "execution_count": 49,
     "metadata": {},
     "output_type": "execute_result"
    }
   ],
   "source": [
    "my_dict"
   ]
  },
  {
   "cell_type": "code",
   "execution_count": 50,
   "id": "f2a18ab0",
   "metadata": {},
   "outputs": [
    {
     "data": {
      "text/plain": [
       "True"
      ]
     },
     "execution_count": 50,
     "metadata": {},
     "output_type": "execute_result"
    }
   ],
   "source": [
    "77 in my_dict"
   ]
  },
  {
   "cell_type": "code",
   "execution_count": 51,
   "id": "43d2e167",
   "metadata": {},
   "outputs": [
    {
     "name": "stdout",
     "output_type": "stream",
     "text": [
      "77\n",
      "78\n",
      "50\n"
     ]
    }
   ],
   "source": [
    "for key in my_dict:\n",
    "    print(key)"
   ]
  },
  {
   "cell_type": "code",
   "execution_count": 52,
   "id": "d026969a",
   "metadata": {},
   "outputs": [
    {
     "data": {
      "text/plain": [
       "{}"
      ]
     },
     "execution_count": 52,
     "metadata": {},
     "output_type": "execute_result"
    }
   ],
   "source": [
    "my_dict.clear()\n",
    "my_dict"
   ]
  },
  {
   "cell_type": "code",
   "execution_count": 57,
   "id": "3d84c3f2",
   "metadata": {},
   "outputs": [],
   "source": [
    "my_dict = {\n",
    "    77: \"Moscow\", \n",
    "    78: \"Saint-Petersburg\", \n",
    "    50: \"Krasnogorsk\"\n",
    "}"
   ]
  },
  {
   "cell_type": "code",
   "execution_count": 58,
   "id": "0269e59a",
   "metadata": {},
   "outputs": [
    {
     "data": {
      "text/plain": [
       "'Moscow'"
      ]
     },
     "execution_count": 58,
     "metadata": {},
     "output_type": "execute_result"
    }
   ],
   "source": [
    "my_dict.get(77)"
   ]
  },
  {
   "cell_type": "code",
   "execution_count": 60,
   "id": "2dded16b",
   "metadata": {},
   "outputs": [
    {
     "data": {
      "text/plain": [
       "'keyerror'"
      ]
     },
     "execution_count": 60,
     "metadata": {},
     "output_type": "execute_result"
    }
   ],
   "source": [
    "my_dict.get(103, \"keyerror\")"
   ]
  },
  {
   "cell_type": "code",
   "execution_count": 30,
   "id": "a1d291d0",
   "metadata": {},
   "outputs": [
    {
     "name": "stdout",
     "output_type": "stream",
     "text": [
      "Такого ключа не существует\n",
      "Такого ключа не существует\n",
      "Такого ключа не существует\n"
     ]
    }
   ],
   "source": [
    "for i in range(len(my_dict)):\n",
    "    print(my_dict.get(i, \"Такого ключа не существует\"))"
   ]
  },
  {
   "cell_type": "code",
   "execution_count": 31,
   "id": "6c27cbe4",
   "metadata": {},
   "outputs": [
    {
     "name": "stdout",
     "output_type": "stream",
     "text": [
      "None\n",
      "Такого ключа не существует\n",
      "{77: 'Moscow', 78: 'Saint-Petersburg', 50: 'Krasnogorsk'}\n"
     ]
    }
   ],
   "source": [
    "print(my_dict.get(45))\n",
    "print(my_dict.get(45, \"Такого ключа не существует\"))\n",
    "print(my_dict)"
   ]
  },
  {
   "cell_type": "code",
   "execution_count": 61,
   "id": "96dcc3cc",
   "metadata": {},
   "outputs": [
    {
     "data": {
      "text/plain": [
       "'Moscow'"
      ]
     },
     "execution_count": 61,
     "metadata": {},
     "output_type": "execute_result"
    }
   ],
   "source": [
    "my_dict.setdefault(77)"
   ]
  },
  {
   "cell_type": "code",
   "execution_count": 62,
   "id": "ab44a387",
   "metadata": {},
   "outputs": [
    {
     "data": {
      "text/plain": [
       "{77: 'Moscow', 78: 'Saint-Petersburg', 50: 'Krasnogorsk', 6: None}"
      ]
     },
     "execution_count": 62,
     "metadata": {},
     "output_type": "execute_result"
    }
   ],
   "source": [
    "my_dict.setdefault(6)\n",
    "my_dict"
   ]
  },
  {
   "cell_type": "code",
   "execution_count": 63,
   "id": "144c53fa",
   "metadata": {},
   "outputs": [
    {
     "data": {
      "text/plain": [
       "{77: 'Moscow',\n",
       " 78: 'Saint-Petersburg',\n",
       " 50: 'Krasnogorsk',\n",
       " 6: None,\n",
       " 65: 'kazian'}"
      ]
     },
     "execution_count": 63,
     "metadata": {},
     "output_type": "execute_result"
    }
   ],
   "source": [
    "my_dict.setdefault(65, \"kazian\")\n",
    "my_dict"
   ]
  },
  {
   "cell_type": "code",
   "execution_count": 42,
   "id": "3d53afc6",
   "metadata": {},
   "outputs": [
    {
     "data": {
      "text/plain": [
       "'kazian'"
      ]
     },
     "execution_count": 42,
     "metadata": {},
     "output_type": "execute_result"
    }
   ],
   "source": [
    "my_dict.pop(65)"
   ]
  },
  {
   "cell_type": "code",
   "execution_count": 64,
   "id": "bd7608c9",
   "metadata": {},
   "outputs": [
    {
     "data": {
      "text/plain": [
       "'такого ключа нет'"
      ]
     },
     "execution_count": 64,
     "metadata": {},
     "output_type": "execute_result"
    }
   ],
   "source": [
    "my_dict.pop(103, \"такого ключа нет\")"
   ]
  },
  {
   "cell_type": "code",
   "execution_count": 44,
   "id": "d3a78375",
   "metadata": {},
   "outputs": [
    {
     "data": {
      "text/plain": [
       "{77: 'Moscow', 78: 'Saint-Petersburg', 50: 'Krasnogorsk', 6: None}"
      ]
     },
     "execution_count": 44,
     "metadata": {},
     "output_type": "execute_result"
    }
   ],
   "source": [
    "my_dict"
   ]
  },
  {
   "cell_type": "code",
   "execution_count": 32,
   "id": "bfd62711",
   "metadata": {},
   "outputs": [
    {
     "data": {
      "text/plain": [
       "(6, None)"
      ]
     },
     "execution_count": 32,
     "metadata": {},
     "output_type": "execute_result"
    }
   ],
   "source": [
    "my_dict.popitem()"
   ]
  },
  {
   "cell_type": "code",
   "execution_count": 33,
   "id": "c9b189cb",
   "metadata": {},
   "outputs": [
    {
     "data": {
      "text/plain": [
       "{77: 'Moscow', 78: 'Saint-Petersburg', 50: 'Krasnogorsk'}"
      ]
     },
     "execution_count": 33,
     "metadata": {},
     "output_type": "execute_result"
    }
   ],
   "source": [
    "my_dict"
   ]
  },
  {
   "cell_type": "code",
   "execution_count": 34,
   "id": "5baffd3f",
   "metadata": {},
   "outputs": [
    {
     "data": {
      "text/plain": [
       "dict_keys([77, 78, 50])"
      ]
     },
     "execution_count": 34,
     "metadata": {},
     "output_type": "execute_result"
    }
   ],
   "source": [
    "my_dict.keys()"
   ]
  },
  {
   "cell_type": "code",
   "execution_count": 41,
   "id": "865fe03f",
   "metadata": {},
   "outputs": [
    {
     "name": "stdout",
     "output_type": "stream",
     "text": [
      "77\n",
      "78\n",
      "50\n"
     ]
    }
   ],
   "source": [
    "for i in my_dict.keys():\n",
    "    print(i)"
   ]
  },
  {
   "cell_type": "code",
   "execution_count": 42,
   "id": "f6fde806",
   "metadata": {},
   "outputs": [
    {
     "data": {
      "text/plain": [
       "dict_values(['Moscow', 'Saint-Petersburg', 'Krasnogorsk'])"
      ]
     },
     "execution_count": 42,
     "metadata": {},
     "output_type": "execute_result"
    }
   ],
   "source": [
    "my_dict.values()"
   ]
  },
  {
   "cell_type": "code",
   "execution_count": 43,
   "id": "065decac",
   "metadata": {},
   "outputs": [
    {
     "name": "stdout",
     "output_type": "stream",
     "text": [
      "Moscow\n",
      "Saint-Petersburg\n",
      "Krasnogorsk\n"
     ]
    }
   ],
   "source": [
    "for i in my_dict.values():\n",
    "    print(i)"
   ]
  },
  {
   "cell_type": "code",
   "execution_count": 44,
   "id": "65a35251",
   "metadata": {},
   "outputs": [
    {
     "data": {
      "text/plain": [
       "dict_items([(77, 'Moscow'), (78, 'Saint-Petersburg'), (50, 'Krasnogorsk')])"
      ]
     },
     "execution_count": 44,
     "metadata": {},
     "output_type": "execute_result"
    }
   ],
   "source": [
    "my_dict.items()"
   ]
  },
  {
   "cell_type": "code",
   "execution_count": 45,
   "id": "fd5e3e1e",
   "metadata": {},
   "outputs": [
    {
     "name": "stdout",
     "output_type": "stream",
     "text": [
      "(77, 'Moscow')\n",
      "(78, 'Saint-Petersburg')\n",
      "(50, 'Krasnogorsk')\n"
     ]
    }
   ],
   "source": [
    "for i in my_dict.items():\n",
    "    print(i)"
   ]
  },
  {
   "cell_type": "code",
   "execution_count": 46,
   "id": "a1d757cb",
   "metadata": {},
   "outputs": [
    {
     "name": "stdout",
     "output_type": "stream",
     "text": [
      "77 Moscow\n",
      "78 Saint-Petersburg\n",
      "50 Krasnogorsk\n"
     ]
    }
   ],
   "source": [
    "for key, value in my_dict.items():\n",
    "    print(key, value)"
   ]
  },
  {
   "cell_type": "code",
   "execution_count": 47,
   "id": "c592d1d8",
   "metadata": {},
   "outputs": [
    {
     "name": "stdout",
     "output_type": "stream",
     "text": [
      "{'key': 'value', 'key_1': 'value_1'}\n"
     ]
    },
    {
     "data": {
      "text/plain": [
       "{'key': 'value', 'key_1': 'new_value'}"
      ]
     },
     "execution_count": 47,
     "metadata": {},
     "output_type": "execute_result"
    }
   ],
   "source": [
    "my_dict = {\"key\": \"value\"}\n",
    "my_dict.update({\"key_1\": \"value_1\"})# Дополняем.\n",
    "print(my_dict)\n",
    "my_dict.update({\"key_1\": \"new_value\"})  # Обновляем.\n",
    "my_dict"
   ]
  },
  {
   "cell_type": "code",
   "execution_count": 48,
   "id": "ef0241e2",
   "metadata": {},
   "outputs": [
    {
     "data": {
      "text/plain": [
       "str"
      ]
     },
     "execution_count": 48,
     "metadata": {},
     "output_type": "execute_result"
    }
   ],
   "source": [
    "type(my_dict[\"key\"])"
   ]
  },
  {
   "cell_type": "code",
   "execution_count": 38,
   "id": "b17e5982",
   "metadata": {},
   "outputs": [
    {
     "name": "stdout",
     "output_type": "stream",
     "text": [
      "{}\n",
      "{1: 2, 3: 4}\n"
     ]
    }
   ],
   "source": []
  },
  {
   "cell_type": "code",
   "execution_count": 2,
   "id": "093a4ae1",
   "metadata": {},
   "outputs": [],
   "source": [
    "for i in range(0):\n",
    "    print(i)"
   ]
  },
  {
   "cell_type": "code",
   "execution_count": null,
   "id": "c6b02c75",
   "metadata": {},
   "outputs": [],
   "source": []
  }
 ],
 "metadata": {
  "kernelspec": {
   "display_name": "Python 3 (ipykernel)",
   "language": "python",
   "name": "python3"
  },
  "language_info": {
   "codemirror_mode": {
    "name": "ipython",
    "version": 3
   },
   "file_extension": ".py",
   "mimetype": "text/x-python",
   "name": "python",
   "nbconvert_exporter": "python",
   "pygments_lexer": "ipython3",
   "version": "3.11.5"
  }
 },
 "nbformat": 4,
 "nbformat_minor": 5
}
